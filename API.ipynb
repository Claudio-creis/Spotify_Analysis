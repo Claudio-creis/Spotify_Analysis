{
 "cells": [
  {
   "cell_type": "markdown",
   "id": "d256f486",
   "metadata": {},
   "source": [
    "# Setup and Imports"
   ]
  },
  {
   "cell_type": "code",
   "execution_count": 2,
   "id": "c31c95d6",
   "metadata": {},
   "outputs": [],
   "source": [
    "import csv\n",
    "import requests\n",
    "import pandas as pd\n",
    "import time\n",
    "import os\n",
    "from datetime import datetime\n",
    "import spotipy\n",
    "from spotipy.oauth2 import SpotifyClientCredentials\n",
    "\n",
    "# Your Client ID and Client Secret\n",
    "CLIENT_ID = 'ADD YOUR CLIENT ID HERE'\n",
    "CLIENT_SECRET = 'ADD YOUR CLIENT SECRET HERE'\n",
    "\n",
    "# Global variables to store the access token and its expiry time\n",
    "access_token = None\n",
    "token_expires_at = 0\n",
    "\n",
    "client_credentials_manager = SpotifyClientCredentials(client_id = CLIENT_ID, client_secret = CLIENT_SECRET)\n",
    "sp = spotipy.Spotify(client_credentials_manager = client_credentials_manager)"
   ]
  },
  {
   "cell_type": "markdown",
   "id": "12938537",
   "metadata": {},
   "source": [
    "# Get the access token or create a new one"
   ]
  },
  {
   "cell_type": "code",
   "execution_count": null,
   "id": "83873bd2",
   "metadata": {},
   "outputs": [],
   "source": [
    "def get_access_token():\n",
    "    global access_token, token_expires_at\n",
    "\n",
    "    # Check if the token is still valid\n",
    "    current_time = time.time()\n",
    "    if access_token is None or current_time >= token_expires_at:\n",
    "        print(\"Requesting new access token...\")\n",
    "\n",
    "        # URL to request the access token\n",
    "        url = \"https://accounts.spotify.com/api/token\"\n",
    "\n",
    "        # Data needed for the POST request\n",
    "        data = {\n",
    "            \"grant_type\": \"client_credentials\",\n",
    "            \"client_id\": CLIENT_ID,\n",
    "            \"client_secret\": CLIENT_SECRET\n",
    "        }\n",
    "\n",
    "        # Headers required for the POST request\n",
    "        headers = {\n",
    "            \"Content-Type\": \"application/x-www-form-urlencoded\"\n",
    "        }\n",
    "\n",
    "        # Make the POST request to get the access token\n",
    "        response = requests.post(url, headers=headers, data=data)\n",
    "\n",
    "        # Check if the request was successful\n",
    "        if response.status_code == 200:\n",
    "            token_data = response.json()\n",
    "            access_token = token_data.get('access_token')\n",
    "            token_expires_in = token_data.get('expires_in', 3600)\n",
    "            token_expires_at = current_time + token_expires_in\n",
    "            print(\"Access token retrieved successfully!\")\n",
    "        else:\n",
    "            print(f\"Failed to retrieve access token: {response.status_code}\")\n",
    "            return None\n",
    "\n",
    "    return access_token\n"
   ]
  },
  {
   "cell_type": "markdown",
   "id": "c9f6ec34",
   "metadata": {},
   "source": [
    "# Search for an Artist"
   ]
  },
  {
   "cell_type": "code",
   "execution_count": null,
   "id": "4b744698",
   "metadata": {},
   "outputs": [],
   "source": [
    "def search_artist_by_name(artist_name):\n",
    "    global access_token\n",
    "    token = get_access_token()\n",
    "    if not token:\n",
    "        return None\n",
    "    \n",
    "    url = f\"https://api.spotify.com/v1/search?q={artist_name}&type=artist&limit=1\"\n",
    "    headers = {\"Authorization\": f\"Bearer {access_token}\"}\n",
    "    \n",
    "    response = requests.get(url, headers=headers)\n",
    "    if response.status_code == 200:\n",
    "        search_data = response.json()\n",
    "        if search_data['artists']['items']:\n",
    "            return search_data['artists']['items'][0]\n",
    "        else:\n",
    "            print(f\"No artist found for {artist_name}\")\n",
    "            return None\n",
    "    else:\n",
    "        print(f\"Failed to search for artist {artist_name}: {response.status_code}\")\n",
    "        return None\n"
   ]
  },
  {
   "cell_type": "markdown",
   "id": "de23984b",
   "metadata": {},
   "source": [
    "# Fetch Artist Information"
   ]
  },
  {
   "cell_type": "code",
   "execution_count": null,
   "id": "75f65514",
   "metadata": {},
   "outputs": [],
   "source": [
    "def get_artist_info(artist_id):\n",
    "    global access_token\n",
    "    url = f\"https://api.spotify.com/v1/artists/{artist_id}\"\n",
    "    headers = {\"Authorization\": f\"Bearer {access_token}\"}\n",
    "    \n",
    "    response = requests.get(url, headers=headers)\n",
    "    if response.status_code == 200:\n",
    "        artist_data = response.json()\n",
    "        genres = artist_data.get('genres', [])\n",
    "        popularity = artist_data['popularity']\n",
    "        followers = artist_data['followers']['total']\n",
    "        name = artist_data['name']\n",
    "        artist_image_url = artist_data['images'][0]['url'] if artist_data['images'] else None\n",
    "        return genres, name, popularity, followers, artist_image_url\n",
    "    else:\n",
    "        print(f\"Failed to fetch artist info: {response.status_code}\")\n",
    "        return [], None, None, None, None"
   ]
  },
  {
   "cell_type": "markdown",
   "id": "2d2b606a",
   "metadata": {},
   "source": [
    "# Fetch Tracks Information"
   ]
  },
  {
   "cell_type": "code",
   "execution_count": null,
   "id": "f8a8cb05",
   "metadata": {},
   "outputs": [],
   "source": [
    "def get_top_and_least_popular_tracks(artist_id, markets=['US']):#,'JP', 'GB']): #maybe a problem having 3 diff markets\n",
    "    global access_token\n",
    "    all_tracks = []\n",
    "\n",
    "    for market in markets:\n",
    "        url = f\"https://api.spotify.com/v1/artists/{artist_id}/top-tracks?market={market}\"\n",
    "        headers = {\"Authorization\": f\"Bearer {access_token}\"}\n",
    "\n",
    "        response = requests.get(url, headers=headers)\n",
    "        if response.status_code == 200:\n",
    "            track_data = response.json()\n",
    "            all_tracks.extend(track_data[\"tracks\"])\n",
    "        else:\n",
    "            print(f\"Failed to fetch top tracks for market {market}: {response.status_code}\")\n",
    "    \n",
    "    if not all_tracks:\n",
    "        return None, None\n",
    "\n",
    "    sorted_tracks = sorted(all_tracks, key=lambda x: x['popularity'], reverse=True)\n",
    "    \n",
    "    return all_tracks, sorted_tracks\n"
   ]
  },
  {
   "cell_type": "markdown",
   "id": "0f52279a",
   "metadata": {},
   "source": [
    "# Fetch Audio Features of a Track"
   ]
  },
  {
   "cell_type": "code",
   "execution_count": null,
   "id": "85732061",
   "metadata": {},
   "outputs": [],
   "source": [
    "def get_audio_features(track_id):\n",
    "    global access_token\n",
    "    url = f\"https://api.spotify.com/v1/audio-features/{track_id}\"\n",
    "    headers = {\"Authorization\": f\"Bearer {access_token}\"}\n",
    "    \n",
    "    response = requests.get(url, headers=headers)\n",
    "    \n",
    "    # Handle rate-limiting (HTTP 429 status)\n",
    "    if response.status_code == 429:\n",
    "        print(\"Rate limit exceeded. Skipping this track.\")\n",
    "        return None\n",
    "\n",
    "    if response.status_code == 200:\n",
    "        audio_data = response.json()\n",
    "        # Extract each feature explicitly, allowing for missing values\n",
    "        return {\n",
    "            'danceability': audio_data.get('danceability', None),\n",
    "            'energy': audio_data.get('energy', None),\n",
    "            'key': audio_data.get('key', None),\n",
    "            'loudness': audio_data.get('loudness', None),\n",
    "            'mode': audio_data.get('mode', None),\n",
    "            'speechiness': audio_data.get('speechiness', None),\n",
    "            'acousticness': audio_data.get('acousticness', None),\n",
    "            'instrumentalness': audio_data.get('instrumentalness', None),\n",
    "            'liveness': audio_data.get('liveness', None),\n",
    "            'valence': audio_data.get('valence', None),\n",
    "            'tempo': audio_data.get('tempo', None),\n",
    "            'duration_ms': audio_data.get('duration_ms', None),\n",
    "            'time_signature': audio_data.get('time_signature', None)\n",
    "        }\n",
    "    else:\n",
    "        print(f\"Failed to fetch audio features: {response.status_code}\")\n",
    "        return None\n"
   ]
  },
  {
   "cell_type": "markdown",
   "id": "f0fae353",
   "metadata": {},
   "source": [
    "# To CSV"
   ]
  },
  {
   "cell_type": "code",
   "execution_count": null,
   "id": "14fb3789",
   "metadata": {},
   "outputs": [],
   "source": [
    "def write_to_csv(artist_data, file_name='API_data.csv'):\n",
    "    file_exists = os.path.isfile(file_name)\n",
    "    \n",
    "    with open(file_name, mode='a', newline='', encoding='utf-8') as file:\n",
    "        writer = csv.writer(file)\n",
    "        \n",
    "        if not file_exists:\n",
    "            writer.writerow([\n",
    "                'Artist Name', 'Artist Popularity', 'Artist Followers', 'Artist Picture URL',\n",
    "                'Track Name', 'Duration (min)', 'Danceability', 'Energy', 'Key', 'Loudness', \n",
    "                'Mode', 'Speechiness', 'Acousticness', 'Instrumentalness', 'Liveness', \n",
    "                'Valence', 'Popularity', 'Release Date', 'Genres', 'Collaborators', \n",
    "                'Album Cover URL', 'Date Gathered',\n",
    "            ])\n",
    "        \n",
    "        for track in artist_data:\n",
    "            if isinstance(track, dict):\n",
    "                audio_features = track.get('audio_features', {})\n",
    "                writer.writerow([\n",
    "                    track.get('artist_name', ''), track.get('artist_popularity', ''), \n",
    "                    track.get('artist_followers', ''), track.get('artist_image_url', ''),\n",
    "                    track.get('track_name', ''), track.get('duration_min', ''), \n",
    "                    audio_features.get('danceability', ''), audio_features.get('energy', ''), \n",
    "                    audio_features.get('key', ''), audio_features.get('loudness', ''), \n",
    "                    audio_features.get('mode', ''), audio_features.get('speechiness', ''), \n",
    "                    audio_features.get('acousticness', ''), audio_features.get('instrumentalness', ''), \n",
    "                    audio_features.get('liveness', ''), audio_features.get('valence', ''),\n",
    "                    track.get('popularity', ''), track.get('release_date', ''), \n",
    "                    \", \".join(track.get('genres', [])), \", \".join(track.get('collaborators', [])), \n",
    "                    track.get('album_cover_url', ''), track.get('date_gathered', ''), \n",
    "                    # track.get('type', ''),  # Uncomment if you want to include the type\n",
    "                ])\n"
   ]
  },
  {
   "cell_type": "markdown",
   "id": "99ec17e6",
   "metadata": {},
   "source": [
    "# Main Function"
   ]
  },
  {
   "cell_type": "code",
   "execution_count": null,
   "id": "987327fe",
   "metadata": {},
   "outputs": [],
   "source": [
    "def collect_artist_data():\n",
    "    artist_names = [\n",
    "       \"Taylor Swift\"#, \"Drake\", \"The Weeknd\", \"Ariana Grande\", \"Ed Sheeran\",\n",
    "    #    \"Bad Bunny\", \"Billie Eilish\", \"Beyoncé\", \"Post Malone\", \"Justin Bieber\",\n",
    "    #   \"Harry Styles\", \"SZA\", \"Rihanna\", \"Kanye West\", \"Kendrick Lamar\", \n",
    "    #    \"Dua Lipa\", \"Shakira\", \"Travis Scott\", \"Olivia Rodrigo\", \"Bruno Mars\", \n",
    "    #    \"Lil Nas X\", \"Shawn Mendes\", \"J Balvin\", \"Doja Cat\", \"Camila Cabello\",\n",
    "    #    \"Cardi B\", \"Rosalía\", \"Miley Cyrus\", \"Katy Perry\", \"Lil Baby\",\n",
    "    #    \"Nicki Minaj\", \"Chris Brown\", \"Imagine Dragons\", \"Daddy Yankee\", \n",
    "    #    \"Lady Gaga\", \"Future\", \"21 Savage\", \"Maluma\", \"Selena Gomez\", \n",
    "    #    \"Eminem\", \"Frank Ocean\", \"Khalid\", \"BLACKPINK\", \"Karol G\", \n",
    "    #    \"Metro Boomin\", \"Arijit Singh\", \"BTS\", \"Morgan Wallen\", \"Adele\", \n",
    "    #    \"Jung Kook\", \"Stray Kids\", \"SEVENTEEN\", \"Lana Del Rey\", \"Mitski\",\n",
    "    #    \"Coldplay\", \"Linkin Park\", \"Marshmello\", \"Sia\", \"Playboi Carti\", \n",
    "    #    \"Hozier\", \"Sam Smith\", \"Queen\", \"Benson Boone\", \"Anuel AA\", \n",
    "    #   \"Ozuna\", \"XXXTentacion\", \"David Guetta\", \"Peso Pluma\", \"Trippie Redd\",\n",
    "    ### where some features start to not be fetched ###\n",
    "    #   \"Charli XCX\", \"Tate McRae\", \"Kid Laroi\", \"Noah Kahan\", \n",
    "    #    \"Alex Warren\", \"V\", \"IVE\", \"Jimin\", \"NewJeans\", \n",
    "    #    \"Pink Floyd\", \"Tyler, The Creator\", \"Rema\", \"Feid\", \n",
    "    #    \"Tito Double P\", \"Anitta\", \"Zayn Malik\", \"Myles Smith\",\n",
    "    #    \"Fleetwood Mac\", \"Lil Durk\", \"Tom Odell\", \"Vance Joy\", \"J Cole\", \n",
    "    #    \"EXO\", \"TOMORROW X TOGETHER\", \"Alan Walker\", \"Maroon 5\"\n",
    "    ]\n",
    "    all_artist_data = []\n",
    "    \n",
    "    for artist_name in artist_names:\n",
    "        print(f\"Processing artist: {artist_name}\")\n",
    "        artist = search_artist_by_name(artist_name)\n",
    "        if artist:\n",
    "            artist_id = artist['id']\n",
    "            genres, name, popularity, followers, artist_image_url = get_artist_info(artist_id)\n",
    "            \n",
    "            # Only one market to reduce loading time\n",
    "            top_tracks = get_top_and_least_popular_tracks(artist_id, markets=['US'])\n",
    "            \n",
    "            # Process top tracks\n",
    "            if top_tracks:\n",
    "                for track in top_tracks:\n",
    "                    #print(f\"Fetching data for top track: {track['name']} by {name}\")\n",
    "                    \n",
    "                    audio_features = get_audio_features(track['id'])\n",
    "                    if audio_features is None:\n",
    "                        print(f\"Audio features for track '{track['name']}' are missing or could not be fetched.\")\n",
    "                    \n",
    "                    track_data = {\n",
    "                        'artist_name': name,\n",
    "                        'artist_popularity': popularity,\n",
    "                        'artist_followers': followers,\n",
    "                        'artist_image_url': artist_image_url,\n",
    "                        'track_name': track['name'],\n",
    "                        'duration_min': round(track['duration_ms'] / 60000, 2),\n",
    "                        'audio_features': audio_features,\n",
    "                        'popularity': track['popularity'],\n",
    "                        'release_date': track['album']['release_date'],\n",
    "                        'genres': genres,\n",
    "                        'collaborators': [artist['name'] for artist in track['artists'] if artist['id'] != artist_id],\n",
    "                        'album_cover_url': track['album']['images'][0]['url'] if track['album']['images'] else None,\n",
    "                        'date_gathered': datetime.now().strftime(\"%Y-%m-%d\")\n",
    "                    }\n",
    "                    all_artist_data.append(track_data)\n",
    "        else:\n",
    "            print(f\"Artist '{artist_name}' not found or data could not be retrieved.\")\n",
    "    \n",
    "    # Create DataFrame from collected data\n",
    "    artist_df = pd.DataFrame(all_artist_data)\n",
    "    \n",
    "    # Flatten the audio features for easier analysis\n",
    "    if not artist_df.empty:\n",
    "        audio_features_df = artist_df['audio_features'].apply(pd.Series)\n",
    "        artist_df = pd.concat([artist_df.drop(columns=['audio_features']), audio_features_df], axis=1)\n",
    "    \n",
    "    return artist_df\n"
   ]
  },
  {
   "cell_type": "code",
   "execution_count": null,
   "id": "58201110",
   "metadata": {},
   "outputs": [],
   "source": [
    "# Call the function and store the result in a DataFrame\n",
    "artist_data_df = collect_artist_data()\n",
    "\n",
    "# Display the DataFrame or save it to a CSV if needed\n",
    "print(artist_data_df.head())\n"
   ]
  },
  {
   "cell_type": "code",
   "execution_count": null,
   "id": "c60a7265",
   "metadata": {},
   "outputs": [],
   "source": [
    "def save_to_csv_no_duplicates(df, file_name=\"API1.csv\"):\n",
    "    # Check if the file already exists\n",
    "    if os.path.isfile(file_name):\n",
    "        # Load existing data to check for duplicates\n",
    "        existing_df = pd.read_csv(file_name)\n",
    "        \n",
    "        # Concatenate the existing data with the new data\n",
    "        combined_df = pd.concat([existing_df, df], ignore_index=True)\n",
    "        \n",
    "        # Drop duplicates based on `track_name` and `artist_name` columns\n",
    "        combined_df.drop_duplicates(subset=['track_name', 'artist_name'], inplace=True)\n",
    "        \n",
    "        # Save the combined data back to the CSV without overwriting headers\n",
    "        combined_df.to_csv(file_name, index=False)\n",
    "    else:\n",
    "        # If the file doesn't exist, write the new data with headers\n",
    "        df.to_csv(file_name, index=False)\n",
    "\n",
    "# Example usage after collecting the data\n",
    "save_to_csv_no_duplicates(artist_data_df, \"API1.csv\")\n"
   ]
  },
  {
   "cell_type": "code",
   "execution_count": null,
   "id": "f91a3be2",
   "metadata": {},
   "outputs": [],
   "source": [
    "# Display the DataFrame or save it to a CSV if needed\n",
    "print(artist_data_df.head())"
   ]
  },
  {
   "cell_type": "code",
   "execution_count": null,
   "id": "849a97be",
   "metadata": {},
   "outputs": [],
   "source": [
    "\n",
    "print(len(artist_data_df))"
   ]
  },
  {
   "cell_type": "markdown",
   "id": "f9054fa2",
   "metadata": {},
   "source": [
    "# Fixing some issues"
   ]
  },
  {
   "cell_type": "code",
   "execution_count": null,
   "id": "bb2b5ecf",
   "metadata": {},
   "outputs": [],
   "source": [
    "#Since the timeout function of the API was annoying to deal with and the data has already been collected I'll do this after fix\n"
   ]
  },
  {
   "cell_type": "code",
   "execution_count": null,
   "id": "d75217e3",
   "metadata": {},
   "outputs": [],
   "source": []
  }
 ],
 "metadata": {
  "kernelspec": {
   "display_name": "Python 3",
   "language": "python",
   "name": "python3"
  },
  "language_info": {
   "codemirror_mode": {
    "name": "ipython",
    "version": 3
   },
   "file_extension": ".py",
   "mimetype": "text/x-python",
   "name": "python",
   "nbconvert_exporter": "python",
   "pygments_lexer": "ipython3",
   "version": "3.12.3"
  }
 },
 "nbformat": 4,
 "nbformat_minor": 5
}
